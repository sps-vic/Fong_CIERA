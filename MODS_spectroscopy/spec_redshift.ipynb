{
 "cells": [
  {
   "cell_type": "markdown",
   "metadata": {},
   "source": [
    "The code below is to be used for semi-automatically identifying emission features in a given spectra by taking advantage of the fact that while the locations of lines change with redshift, the ratios between line positions are redshift-invariant. The ratios of all possible line pairs in an input calibration list are compared  with the ratios of all possible pairs of observed liness, and matches are suggested if a pair of observed wavelengths has a ratio within a user-specified error of a calibration pair. The suggested identifications for these pairs are then printed out, and their redshifts (and averaged redshfit estimate with uncertainty) can also be printed out if desired. Any additions, changes, or improvements to the code below are more than welcome!\n",
    "\n",
    "-Armaan Goyal"
   ]
  },
  {
   "cell_type": "code",
   "execution_count": 21,
   "metadata": {},
   "outputs": [],
   "source": [
    "import numpy as np\n",
    "\n",
    "def check_redshift(cal_names, cal_wav, obs_wav, offset, redshift = False, **kwargs):\n",
    "    '''\n",
    "    Attempts to identify features in spectra by comparing ratios of observed lines to those of catalogued rest-frame lines.\n",
    "    Optionally calculates and ouptuts redshift.\n",
    "    \n",
    "    Parameters:\n",
    "    -----------\n",
    "    cal_names (list of str): list of transition names of catalogued lines (e.g. \"OII\" or \"H-beta\")\n",
    "    cal_wav (list of float): list of rest-frame wavelengths of catalogued lines in the same order as cal_names\n",
    "    obs_wav (list of float): list of observed wavelengths of features in data\n",
    "    offset (float): Maximum percent error of ratio (reccomend .01 for first pass and .001 afterwards)\n",
    "    redshift (bool): Toggle for redshift calculation (defaults to False)\n",
    "    z_low, z_high (float, optional): Optional limits for redshift determination\n",
    "    \n",
    "    Returns:\n",
    "    --------\n",
    "    Various print statements detailing line candidates, ratio values, and redshift estimates (if needed).\n",
    "    Outputs list of \"line objects\" where each element is a tuple organized as \n",
    "    (line name, observed wavelength, rest wavelength, redshift (if desired))\n",
    "    \n",
    "    '''\n",
    "    ratios = []\n",
    "    ratio_names = []\n",
    "    error = []\n",
    "    candidates = []\n",
    "    zs = []\n",
    "    output = []\n",
    "    z_low = kwargs.get(\"z_low\", 0)\n",
    "    z_high = kwargs.get(\"z_high\", 10)\n",
    "    for i in range(len(cal_names)):\n",
    "        for j in range(len(cal_names[(i+1):])):\n",
    "            ratios.append(cal_wav[(i+1):][j]/cal_wav[i])\n",
    "            ratio_names.append(cal_names[i] + \" & \" + cal_names[(i+1):][j])\n",
    "    for r in range(len(ratios)):\n",
    "        for i in range(len(obs_wav)):\n",
    "            for j in range(len(obs_wav[(i+1):])):\n",
    "                obs_ratio = obs_wav[(i+1):][j]/obs_wav[i]\n",
    "                percent_error = abs((obs_ratio - ratios[r])/ratios[r])\n",
    "                if percent_error <= offset:\n",
    "                    error.append(percent_error)\n",
    "                    candidates.append(((i+1, j+2+i), ratio_names[r]))\n",
    "                    print(\"Line %d and %d (ratio %.6f) possible candidates for %s pair (ratio %.6f)\"%(i+1, j+2+i, obs_ratio, ratio_names[r], ratios[r]))\n",
    "    #ind = error.index(min(error))\n",
    "    for pair in candidates:\n",
    "        selected_lines = pair[0]\n",
    "        names = pair[1].split(\" & \")\n",
    "        (obs1, obs2) = (obs_wav[selected_lines[0]-1], obs_wav[selected_lines[1]-1])\n",
    "        (line1, line2) = (cal_wav[cal_names.index(names[0])], cal_wav[cal_names.index(names[1])])\n",
    "        line_object1 = [names[0], obs1, line1]\n",
    "        line_object2 = [names[1], obs2, line2]\n",
    "        if redshift:\n",
    "            z1 = round((obs1/line1)-1, 4)\n",
    "            z2 = round((obs2/line2)-1, 4)\n",
    "            z = np.mean([z1, z2])\n",
    "            if z >= z_low and z <= z_high:\n",
    "                if line_object1 not in output:\n",
    "                    output.append(line_object1)\n",
    "                    zs.append(z1)\n",
    "                if line_object2 not in output:\n",
    "                    output.append(line_object2)\n",
    "                    zs.append(z2)\n",
    "                print(\"Identifying the features at %.2f and %.2f angstroms as %s lines yields avg redshift of approx. z = %.4f\"%(obs1, obs2, pair[1], z))\n",
    "        if not redshift:\n",
    "            if line_object1 not in output:\n",
    "                output.append(tuple(line_object1))\n",
    "            if line_object2 not in output:\n",
    "                output.append(tuple(line_object2))\n",
    "    if redshift:\n",
    "        avg_z = np.mean(np.array(zs))\n",
    "        std_z = np.std(np.array(zs))\n",
    "        for i in range(len(zs)):\n",
    "            output[i].append(zs[i])\n",
    "            output[i] = tuple(output[i])\n",
    "        print(\"The average redshift is approx. z = %.4f \\u00B1 %.4f\"%(avg_z, std_z))\n",
    "    return output"
   ]
  },
  {
   "cell_type": "markdown",
   "metadata": {},
   "source": [
    "Here are a few different calibration line lists for optical spectra of galaxies. The first list consists of the vaccum wavelengths of the five most common lines in galactic spectra, while the other two respectively provide air and vacuum values for a more comprehensive set of lines."
   ]
  },
  {
   "cell_type": "code",
   "execution_count": 4,
   "metadata": {},
   "outputs": [],
   "source": [
    "cal_names_vac_basic = [\"O II\", 'Hβ', 'O III-1', 'O III-2', 'Hα']\n",
    "cal_wav_vac_basic = [3726.03, 4861.33, 4958.92, 5006.84, 6563]\n",
    "\n",
    "cal_names_air = ['Mg II', 'O II', 'Hδ', 'Hγ', 'Hβ', 'O III-1', 'O III-2', 'N II', 'Hα', \"N II\", \"S II\", \"S II\"]\n",
    "cal_wav_air = [2799.117, 3727.092, 4102.89, 4341.68, 4862.68, 4960.295, 5008.24, 6549.86, 6564.61, 6585.27, 6718.29, 6732.67]\n",
    "\n",
    "cal_names_vac = [\"CaH\", \"CaK\", \"O II\", 'Ne III', 'Hδ', 'Hγ', 'O III-3', 'Hβ', 'O III-1', 'O III-2', 'Hα']\n",
    "cal_wav_vac = [3933.663, 3968.468, 3726.03, 3969, 4101.76, 4340.47, 4363, 4861.33, 4958.92, 5006.84, 6563]"
   ]
  },
  {
   "cell_type": "markdown",
   "metadata": {},
   "source": [
    "A good first pass generally consists of using the basic line list with an offset of around .003-.005 (.3-.5%). Our general benchmark for accurately identified pairs is around .001 (.1%), so keep this in mind as you scan the results to determine which pairs are the best candidates for further runs. An example of this with sample data is shown below:"
   ]
  },
  {
   "cell_type": "code",
   "execution_count": 25,
   "metadata": {},
   "outputs": [
    {
     "name": "stdout",
     "output_type": "stream",
     "text": [
      "Line 1 and 2 (ratio 1.304109) possible candidates for O II & Hβ pair (ratio 1.304694)\n",
      "Line 1 and 3 (ratio 1.330356) possible candidates for O II & O III-1 pair (ratio 1.330886)\n",
      "Line 1 and 4 (ratio 1.343197) possible candidates for O II & O III-2 pair (ratio 1.343747)\n",
      "Line 1 and 5 (ratio 1.760077) possible candidates for O II & Hα pair (ratio 1.761392)\n",
      "Line 2 and 3 (ratio 1.020127) possible candidates for Hβ & O III-1 pair (ratio 1.020075)\n",
      "Line 2 and 4 (ratio 1.029973) possible candidates for Hβ & O III-2 pair (ratio 1.029932)\n",
      "Line 2 and 5 (ratio 1.349639) possible candidates for Hβ & Hα pair (ratio 1.350042)\n",
      "Line 3 and 4 (ratio 1.009652) possible candidates for O III-1 & O III-2 pair (ratio 1.009663)\n",
      "Line 3 and 5 (ratio 1.323012) possible candidates for O III-1 & Hα pair (ratio 1.323474)\n",
      "Line 4 and 5 (ratio 1.310364) possible candidates for O III-2 & Hα pair (ratio 1.310807)\n",
      "Identifying the features at 5419.57 and 7067.71 angstroms as O II & Hβ lines yields avg redshift of approx. z = 0.4542\n",
      "Identifying the features at 5419.57 and 7209.96 angstroms as O II & O III-1 lines yields avg redshift of approx. z = 0.4542\n",
      "Identifying the features at 5419.57 and 7279.55 angstroms as O II & O III-2 lines yields avg redshift of approx. z = 0.4542\n",
      "Identifying the features at 5419.57 and 9538.86 angstroms as O II & Hα lines yields avg redshift of approx. z = 0.4540\n",
      "Identifying the features at 7067.71 and 7209.96 angstroms as Hβ & O III-1 lines yields avg redshift of approx. z = 0.4539\n",
      "Identifying the features at 7067.71 and 7279.55 angstroms as Hβ & O III-2 lines yields avg redshift of approx. z = 0.4539\n",
      "Identifying the features at 7067.71 and 9538.86 angstroms as Hβ & Hα lines yields avg redshift of approx. z = 0.4536\n",
      "Identifying the features at 7209.96 and 7279.55 angstroms as O III-1 & O III-2 lines yields avg redshift of approx. z = 0.4539\n",
      "Identifying the features at 7209.96 and 9538.86 angstroms as O III-1 & Hα lines yields avg redshift of approx. z = 0.4536\n",
      "Identifying the features at 7279.55 and 9538.86 angstroms as O III-2 & Hα lines yields avg redshift of approx. z = 0.4536\n",
      "The average redshift is approx. z = 0.4539 ± 0.0003\n"
     ]
    }
   ],
   "source": [
    "obs_wav = [5419.57, 7067.71, 7209.96, 7279.55, 9538.86]\n",
    "offset = .003\n",
    "\n",
    "output = check_redshift(cal_names_vac_basic, cal_wav_vac_basic, obs_wav, offset, redshift = True)"
   ]
  },
  {
   "cell_type": "markdown",
   "metadata": {},
   "source": [
    "There seem to be no repeat pairs (every line ID is single valued), so this first pass seems to be good. If we tighten the restrictions we see that nothing changes:"
   ]
  },
  {
   "cell_type": "code",
   "execution_count": 26,
   "metadata": {},
   "outputs": [
    {
     "name": "stdout",
     "output_type": "stream",
     "text": [
      "Line 1 and 2 (ratio 1.304109) possible candidates for O II & Hβ pair (ratio 1.304694)\n",
      "Line 1 and 3 (ratio 1.330356) possible candidates for O II & O III-1 pair (ratio 1.330886)\n",
      "Line 1 and 4 (ratio 1.343197) possible candidates for O II & O III-2 pair (ratio 1.343747)\n",
      "Line 1 and 5 (ratio 1.760077) possible candidates for O II & Hα pair (ratio 1.761392)\n",
      "Line 2 and 3 (ratio 1.020127) possible candidates for Hβ & O III-1 pair (ratio 1.020075)\n",
      "Line 2 and 4 (ratio 1.029973) possible candidates for Hβ & O III-2 pair (ratio 1.029932)\n",
      "Line 2 and 5 (ratio 1.349639) possible candidates for Hβ & Hα pair (ratio 1.350042)\n",
      "Line 3 and 4 (ratio 1.009652) possible candidates for O III-1 & O III-2 pair (ratio 1.009663)\n",
      "Line 3 and 5 (ratio 1.323012) possible candidates for O III-1 & Hα pair (ratio 1.323474)\n",
      "Line 4 and 5 (ratio 1.310364) possible candidates for O III-2 & Hα pair (ratio 1.310807)\n",
      "Identifying the features at 5419.57 and 7067.71 angstroms as O II & Hβ lines yields avg redshift of approx. z = 0.4542\n",
      "Identifying the features at 5419.57 and 7209.96 angstroms as O II & O III-1 lines yields avg redshift of approx. z = 0.4542\n",
      "Identifying the features at 5419.57 and 7279.55 angstroms as O II & O III-2 lines yields avg redshift of approx. z = 0.4542\n",
      "Identifying the features at 5419.57 and 9538.86 angstroms as O II & Hα lines yields avg redshift of approx. z = 0.4540\n",
      "Identifying the features at 7067.71 and 7209.96 angstroms as Hβ & O III-1 lines yields avg redshift of approx. z = 0.4539\n",
      "Identifying the features at 7067.71 and 7279.55 angstroms as Hβ & O III-2 lines yields avg redshift of approx. z = 0.4539\n",
      "Identifying the features at 7067.71 and 9538.86 angstroms as Hβ & Hα lines yields avg redshift of approx. z = 0.4536\n",
      "Identifying the features at 7209.96 and 7279.55 angstroms as O III-1 & O III-2 lines yields avg redshift of approx. z = 0.4539\n",
      "Identifying the features at 7209.96 and 9538.86 angstroms as O III-1 & Hα lines yields avg redshift of approx. z = 0.4536\n",
      "Identifying the features at 7279.55 and 9538.86 angstroms as O III-2 & Hα lines yields avg redshift of approx. z = 0.4536\n",
      "The average redshift is approx. z = 0.4539 ± 0.0003\n"
     ]
    }
   ],
   "source": [
    "obs_wav = [5419.57, 7067.71, 7209.96, 7279.55, 9538.86]\n",
    "offset = .001\n",
    "\n",
    "output = check_redshift(cal_names_vac_basic, cal_wav_vac_basic, obs_wav, offset, redshift = True)"
   ]
  },
  {
   "cell_type": "markdown",
   "metadata": {},
   "source": [
    "Now that we have a good idea of what these lines are, let us double check by running the routine again with one of the more comprehensive lists:"
   ]
  },
  {
   "cell_type": "code",
   "execution_count": 27,
   "metadata": {},
   "outputs": [
    {
     "name": "stdout",
     "output_type": "stream",
     "text": [
      "Line 3 and 4 (ratio 1.009652) possible candidates for CaH & CaK pair (ratio 1.008848)\n",
      "Line 3 and 4 (ratio 1.009652) possible candidates for CaH & Ne III pair (ratio 1.008983)\n",
      "Line 1 and 2 (ratio 1.304109) possible candidates for O II & Hβ pair (ratio 1.304694)\n",
      "Line 1 and 3 (ratio 1.330356) possible candidates for O II & O III-1 pair (ratio 1.330886)\n",
      "Line 1 and 4 (ratio 1.343197) possible candidates for O II & O III-2 pair (ratio 1.343747)\n",
      "Line 1 and 5 (ratio 1.760077) possible candidates for O II & Hα pair (ratio 1.761392)\n",
      "Line 2 and 3 (ratio 1.020127) possible candidates for Hβ & O III-1 pair (ratio 1.020075)\n",
      "Line 2 and 4 (ratio 1.029973) possible candidates for Hβ & O III-2 pair (ratio 1.029932)\n",
      "Line 2 and 5 (ratio 1.349639) possible candidates for Hβ & Hα pair (ratio 1.350042)\n",
      "Line 3 and 4 (ratio 1.009652) possible candidates for O III-1 & O III-2 pair (ratio 1.009663)\n",
      "Line 3 and 5 (ratio 1.323012) possible candidates for O III-1 & Hα pair (ratio 1.323474)\n",
      "Line 4 and 5 (ratio 1.310364) possible candidates for O III-2 & Hα pair (ratio 1.310807)\n",
      "Identifying the features at 7209.96 and 7279.55 angstroms as CaH & CaK lines yields avg redshift of approx. z = 0.8336\n",
      "Identifying the features at 7209.96 and 7279.55 angstroms as CaH & Ne III lines yields avg redshift of approx. z = 0.8335\n",
      "Identifying the features at 5419.57 and 7067.71 angstroms as O II & Hβ lines yields avg redshift of approx. z = 0.4542\n",
      "Identifying the features at 5419.57 and 7209.96 angstroms as O II & O III-1 lines yields avg redshift of approx. z = 0.4542\n",
      "Identifying the features at 5419.57 and 7279.55 angstroms as O II & O III-2 lines yields avg redshift of approx. z = 0.4542\n",
      "Identifying the features at 5419.57 and 9538.86 angstroms as O II & Hα lines yields avg redshift of approx. z = 0.4540\n",
      "Identifying the features at 7067.71 and 7209.96 angstroms as Hβ & O III-1 lines yields avg redshift of approx. z = 0.4539\n",
      "Identifying the features at 7067.71 and 7279.55 angstroms as Hβ & O III-2 lines yields avg redshift of approx. z = 0.4539\n",
      "Identifying the features at 7067.71 and 9538.86 angstroms as Hβ & Hα lines yields avg redshift of approx. z = 0.4536\n",
      "Identifying the features at 7209.96 and 7279.55 angstroms as O III-1 & O III-2 lines yields avg redshift of approx. z = 0.4539\n",
      "Identifying the features at 7209.96 and 9538.86 angstroms as O III-1 & Hα lines yields avg redshift of approx. z = 0.4536\n",
      "Identifying the features at 7279.55 and 9538.86 angstroms as O III-2 & Hα lines yields avg redshift of approx. z = 0.4536\n",
      "The average redshift is approx. z = 0.5964 ± 0.1839\n"
     ]
    }
   ],
   "source": [
    "obs_wav = [5419.57, 7067.71, 7209.96, 7279.55, 9538.86]\n",
    "offset = .001\n",
    "\n",
    "output = check_redshift(cal_names_vac, cal_wav_vac, obs_wav, offset, redshift = True)"
   ]
  },
  {
   "cell_type": "markdown",
   "metadata": {},
   "source": [
    "Here we see other possibilites arise, but seeing as the line pair with lines 3 & 4 is doubly identified, and that the first two redshift values are not at all consistent with the others, we can say with confidence that these identifications are not correct and so we may tighten our sample by forcing a redshift range between z_high and/or z_low:"
   ]
  },
  {
   "cell_type": "code",
   "execution_count": 28,
   "metadata": {},
   "outputs": [
    {
     "name": "stdout",
     "output_type": "stream",
     "text": [
      "Line 3 and 4 (ratio 1.009652) possible candidates for CaH & CaK pair (ratio 1.008848)\n",
      "Line 3 and 4 (ratio 1.009652) possible candidates for CaH & Ne III pair (ratio 1.008983)\n",
      "Line 1 and 2 (ratio 1.304109) possible candidates for O II & Hβ pair (ratio 1.304694)\n",
      "Line 1 and 3 (ratio 1.330356) possible candidates for O II & O III-1 pair (ratio 1.330886)\n",
      "Line 1 and 4 (ratio 1.343197) possible candidates for O II & O III-2 pair (ratio 1.343747)\n",
      "Line 1 and 5 (ratio 1.760077) possible candidates for O II & Hα pair (ratio 1.761392)\n",
      "Line 2 and 3 (ratio 1.020127) possible candidates for Hβ & O III-1 pair (ratio 1.020075)\n",
      "Line 2 and 4 (ratio 1.029973) possible candidates for Hβ & O III-2 pair (ratio 1.029932)\n",
      "Line 2 and 5 (ratio 1.349639) possible candidates for Hβ & Hα pair (ratio 1.350042)\n",
      "Line 3 and 4 (ratio 1.009652) possible candidates for O III-1 & O III-2 pair (ratio 1.009663)\n",
      "Line 3 and 5 (ratio 1.323012) possible candidates for O III-1 & Hα pair (ratio 1.323474)\n",
      "Line 4 and 5 (ratio 1.310364) possible candidates for O III-2 & Hα pair (ratio 1.310807)\n",
      "Identifying the features at 5419.57 and 7067.71 angstroms as O II & Hβ lines yields avg redshift of approx. z = 0.4542\n",
      "Identifying the features at 5419.57 and 7209.96 angstroms as O II & O III-1 lines yields avg redshift of approx. z = 0.4542\n",
      "Identifying the features at 5419.57 and 7279.55 angstroms as O II & O III-2 lines yields avg redshift of approx. z = 0.4542\n",
      "Identifying the features at 5419.57 and 9538.86 angstroms as O II & Hα lines yields avg redshift of approx. z = 0.4540\n",
      "Identifying the features at 7067.71 and 7209.96 angstroms as Hβ & O III-1 lines yields avg redshift of approx. z = 0.4539\n",
      "Identifying the features at 7067.71 and 7279.55 angstroms as Hβ & O III-2 lines yields avg redshift of approx. z = 0.4539\n",
      "Identifying the features at 7067.71 and 9538.86 angstroms as Hβ & Hα lines yields avg redshift of approx. z = 0.4536\n",
      "Identifying the features at 7209.96 and 7279.55 angstroms as O III-1 & O III-2 lines yields avg redshift of approx. z = 0.4539\n",
      "Identifying the features at 7209.96 and 9538.86 angstroms as O III-1 & Hα lines yields avg redshift of approx. z = 0.4536\n",
      "Identifying the features at 7279.55 and 9538.86 angstroms as O III-2 & Hα lines yields avg redshift of approx. z = 0.4536\n",
      "The average redshift is approx. z = 0.4539 ± 0.0003\n"
     ]
    }
   ],
   "source": [
    "obs_wav = [5419.57, 7067.71, 7209.96, 7279.55, 9538.86]\n",
    "offset = .001\n",
    "\n",
    "output = check_redshift(cal_names_vac, cal_wav_vac, obs_wav, offset, z_low = .05, z_high = .5, redshift = True)"
   ]
  },
  {
   "cell_type": "markdown",
   "metadata": {},
   "source": [
    "We see that these line identifications are consistent with those before. For the sake of completeness, we can compare these values to those yielded by a run using the air wavelengths:"
   ]
  },
  {
   "cell_type": "code",
   "execution_count": 29,
   "metadata": {},
   "outputs": [
    {
     "name": "stdout",
     "output_type": "stream",
     "text": [
      "Line 1 and 3 (ratio 1.330356) possible candidates for Mg II & O II pair (ratio 1.331524)\n",
      "Line 1 and 2 (ratio 1.304109) possible candidates for O II & Hβ pair (ratio 1.304685)\n",
      "Line 1 and 3 (ratio 1.330356) possible candidates for O II & O III-1 pair (ratio 1.330875)\n",
      "Line 1 and 4 (ratio 1.343197) possible candidates for O II & O III-2 pair (ratio 1.343739)\n",
      "Line 1 and 5 (ratio 1.760077) possible candidates for O II & Hα pair (ratio 1.761322)\n",
      "Line 2 and 3 (ratio 1.020127) possible candidates for Hβ & O III-1 pair (ratio 1.020074)\n",
      "Line 2 and 4 (ratio 1.029973) possible candidates for Hβ & O III-2 pair (ratio 1.029934)\n",
      "Line 2 and 5 (ratio 1.349639) possible candidates for Hβ & Hα pair (ratio 1.349998)\n",
      "Line 3 and 4 (ratio 1.009652) possible candidates for O III-1 & O III-2 pair (ratio 1.009666)\n",
      "Line 3 and 5 (ratio 1.323012) possible candidates for O III-1 & Hα pair (ratio 1.323431)\n",
      "Line 4 and 5 (ratio 1.310364) possible candidates for O III-2 & Hα pair (ratio 1.310762)\n",
      "Line 1 and 4 (ratio 1.343197) possible candidates for O III-2 & S II pair (ratio 1.344319)\n",
      "Line 2 and 3 (ratio 1.020127) possible candidates for N II & S II pair (ratio 1.020200)\n",
      "Identifying the features at 5419.57 and 7067.71 angstroms as O II & Hβ lines yields avg redshift of approx. z = 0.4538\n",
      "Identifying the features at 5419.57 and 7209.96 angstroms as O II & O III-1 lines yields avg redshift of approx. z = 0.4538\n",
      "Identifying the features at 5419.57 and 7279.55 angstroms as O II & O III-2 lines yields avg redshift of approx. z = 0.4538\n",
      "Identifying the features at 5419.57 and 9538.86 angstroms as O II & Hα lines yields avg redshift of approx. z = 0.4536\n",
      "Identifying the features at 7067.71 and 7209.96 angstroms as Hβ & O III-1 lines yields avg redshift of approx. z = 0.4535\n",
      "Identifying the features at 7067.71 and 7279.55 angstroms as Hβ & O III-2 lines yields avg redshift of approx. z = 0.4535\n",
      "Identifying the features at 7067.71 and 9538.86 angstroms as Hβ & Hα lines yields avg redshift of approx. z = 0.4533\n",
      "Identifying the features at 7209.96 and 7279.55 angstroms as O III-1 & O III-2 lines yields avg redshift of approx. z = 0.4535\n",
      "Identifying the features at 7209.96 and 9538.86 angstroms as O III-1 & Hα lines yields avg redshift of approx. z = 0.4533\n",
      "Identifying the features at 7279.55 and 9538.86 angstroms as O III-2 & Hα lines yields avg redshift of approx. z = 0.4533\n",
      "The average redshift is approx. z = 0.4535 ± 0.0003\n",
      "[('O II', 5419.57, 3727.092, 0.4541), ('Hβ', 7067.71, 4862.68, 0.4535), ('O III-1', 7209.96, 4960.295, 0.4535), ('O III-2', 7279.55, 5008.24, 0.4535), ('Hα', 9538.86, 6564.61, 0.4531)]\n"
     ]
    }
   ],
   "source": [
    "obs_wav = [5419.57, 7067.71, 7209.96, 7279.55, 9538.86]\n",
    "offset = .001\n",
    "\n",
    "output = check_redshift(cal_names_air, cal_wav_air, obs_wav, offset, z_low = .1, z_high = .5,redshift = True)\n",
    "print(output)"
   ]
  },
  {
   "cell_type": "markdown",
   "metadata": {},
   "source": [
    "We see that these values are in agreement with only a slight natural discrepancy. Whether you use the vacuum or air wavelengths is simply a matter of personal or group preference - just make sure you stay consistent throughout your analysis!"
   ]
  }
 ],
 "metadata": {
  "kernelspec": {
   "display_name": "Python 3",
   "language": "python",
   "name": "python3"
  },
  "language_info": {
   "codemirror_mode": {
    "name": "ipython",
    "version": 3
   },
   "file_extension": ".py",
   "mimetype": "text/x-python",
   "name": "python",
   "nbconvert_exporter": "python",
   "pygments_lexer": "ipython3",
   "version": "3.7.6"
  }
 },
 "nbformat": 4,
 "nbformat_minor": 2
}
